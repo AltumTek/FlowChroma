{
 "cells": [
  {
   "cell_type": "code",
   "execution_count": 12,
   "metadata": {},
   "outputs": [],
   "source": [
    "import cv2\n",
    "import numpy as np\n",
    "from skimage import color\n",
    "import pandas as pd\n",
    "import matplotlib.pyplot as plt\n"
   ]
  },
  {
   "cell_type": "markdown",
   "metadata": {},
   "source": [
    "# Get Video"
   ]
  },
  {
   "cell_type": "code",
   "execution_count": 13,
   "metadata": {},
   "outputs": [],
   "source": [
    "def get_video(file):\n",
    "    video = cv2.VideoCapture(file)\n",
    "    frames = []\n",
    "    while video.isOpened():\n",
    "        ret, frame = video.read()\n",
    "        if not ret:\n",
    "            break\n",
    "        frames.append(frame)\n",
    "    frames = np.asarray(frames)\n",
    "    return frames"
   ]
  },
  {
   "cell_type": "markdown",
   "metadata": {},
   "source": [
    "# Convert Video"
   ]
  },
  {
   "cell_type": "code",
   "execution_count": 14,
   "metadata": {},
   "outputs": [],
   "source": [
    "def convert_color(frames, conversion = \"rgb2lab\"):\n",
    "    converted_frames = []\n",
    "    for frame in frames:\n",
    "        converted_frame = None\n",
    "        if conversion == \"rgb2ycbcr\":\n",
    "            converted_frame = color.rgb2ycbcr(frame)\n",
    "        else:\n",
    "            converted_frame = color.rgb2lab(frame)\n",
    "        converted_frames.append(converted_frame)\n",
    "    return np.asarray(converted_frames)\n"
   ]
  },
  {
   "cell_type": "markdown",
   "metadata": {},
   "source": [
    "# Find STD"
   ]
  },
  {
   "cell_type": "code",
   "execution_count": 15,
   "metadata": {},
   "outputs": [],
   "source": [
    "def find_stats(video_file):\n",
    "    frames = get_video(video_file)\n",
    "    yuv_frames = convert_color(frames, conversion=\"rgb2ycbcr\")\n",
    "    \n",
    "    y_frames = yuv_frames[:,:,:,0]\n",
    "    y_frames_pd = pd.DataFrame(np.transpose(np.reshape(y_frames,(y_frames.shape[0],y_frames.shape[1]*y_frames.shape[2]))))\n",
    "\n",
    "    u_frames = yuv_frames[:,:,:,1]\n",
    "    u_frames_pd = pd.DataFrame(np.transpose(np.reshape(u_frames,(u_frames.shape[0],u_frames.shape[1]*u_frames.shape[2]))))\n",
    "\n",
    "    v_frames = yuv_frames[:,:,:,2]\n",
    "    v_frames_pd = pd.DataFrame(np.transpose(np.reshape(v_frames,(v_frames.shape[0],v_frames.shape[1]*v_frames.shape[2]))))\n",
    "    \n",
    "    y_frames_pd['std'] = y_frames_pd.transpose().std()\n",
    "    u_frames_pd['std'] = u_frames_pd.transpose().std()\n",
    "    v_frames_pd['std'] = v_frames_pd.transpose().std()\n",
    "    y_frames_pd['mean'] = y_frames_pd.transpose().mean()\n",
    "    u_frames_pd['mean'] = u_frames_pd.transpose().mean()\n",
    "    v_frames_pd['mean'] = v_frames_pd.transpose().mean()\n",
    "    \n",
    "    return [y_frames_pd['std'].values,u_frames_pd['std'].values, v_frames_pd['std'].values]\n",
    "    "
   ]
  },
  {
   "cell_type": "markdown",
   "metadata": {},
   "source": [
    "# Mean Squared Error"
   ]
  },
  {
   "cell_type": "code",
   "execution_count": 16,
   "metadata": {},
   "outputs": [],
   "source": [
    "from sklearn.metrics import mean_squared_error\n",
    "\n",
    "def evaluate_mse(ground_truth_std, prediction_std):\n",
    "    answers = []\n",
    "    assert len(ground_truth_std) == len(prediction_std)\n",
    "    for i in range(len(ground_truth_std)):\n",
    "        answers.append(mean_squared_error(ground_truth_std[i],prediction_std[i]))\n",
    "    return answers"
   ]
  },
  {
   "cell_type": "markdown",
   "metadata": {},
   "source": [
    "# Pearson Correlation"
   ]
  },
  {
   "cell_type": "code",
   "execution_count": 17,
   "metadata": {},
   "outputs": [],
   "source": [
    "from scipy.stats import pearsonr\n",
    "def evaluate_pearson_corr(ground_truth_std, prediction_std):\n",
    "    answers = []\n",
    "    assert len(ground_truth_std) == len(prediction_std)\n",
    "    for i in range(len(ground_truth_std)):\n",
    "        answers.append(pearsonr(ground_truth_std[i],prediction_std[i])[0])\n",
    "    return answers"
   ]
  },
  {
   "cell_type": "markdown",
   "metadata": {},
   "source": [
    "# Execution"
   ]
  },
  {
   "cell_type": "code",
   "execution_count": 18,
   "metadata": {},
   "outputs": [],
   "source": [
    "ground_truth_stds = find_stats('/home/chamath/Projects/FlowChroma_Benchmark/data/actionclipautoautotrain00001.avi')\n",
    "prediction_stds = find_stats('/home/chamath/Projects/FlowChroma_Benchmark/data/actionclipautoautotrain00001.avi')"
   ]
  },
  {
   "cell_type": "code",
   "execution_count": 19,
   "metadata": {},
   "outputs": [
    {
     "data": {
      "text/plain": [
       "numpy.ndarray"
      ]
     },
     "execution_count": 19,
     "metadata": {},
     "output_type": "execute_result"
    }
   ],
   "source": [
    "# evaluate_mse(ground_truth_stds, prediction_stds)\n",
    "type(ground_truth_stds[0])"
   ]
  },
  {
   "cell_type": "markdown",
   "metadata": {},
   "source": [
    "# Visualization"
   ]
  },
  {
   "cell_type": "code",
   "execution_count": 11,
   "metadata": {},
   "outputs": [
    {
     "ename": "AttributeError",
     "evalue": "'numpy.ndarray' object has no attribute 'plot'",
     "output_type": "error",
     "traceback": [
      "\u001b[0;31m---------------------------------------------------------------------------\u001b[0m",
      "\u001b[0;31mAttributeError\u001b[0m                            Traceback (most recent call last)",
      "\u001b[0;32m<ipython-input-11-d2e4a6994e4c>\u001b[0m in \u001b[0;36m<module>\u001b[0;34m()\u001b[0m\n\u001b[1;32m      1\u001b[0m \u001b[0mf\u001b[0m\u001b[0;34m,\u001b[0m \u001b[0;34m(\u001b[0m\u001b[0max1\u001b[0m\u001b[0;34m,\u001b[0m \u001b[0max2\u001b[0m\u001b[0;34m)\u001b[0m \u001b[0;34m=\u001b[0m \u001b[0mplt\u001b[0m\u001b[0;34m.\u001b[0m\u001b[0msubplots\u001b[0m\u001b[0;34m(\u001b[0m\u001b[0;36m1\u001b[0m\u001b[0;34m,\u001b[0m \u001b[0;36m2\u001b[0m\u001b[0;34m)\u001b[0m\u001b[0;34m\u001b[0m\u001b[0m\n\u001b[0;32m----> 2\u001b[0;31m \u001b[0mground_truth_stds\u001b[0m\u001b[0;34m[\u001b[0m\u001b[0;36m0\u001b[0m\u001b[0;34m]\u001b[0m\u001b[0;34m[\u001b[0m\u001b[0;36m528\u001b[0m\u001b[0;34m:\u001b[0m\u001b[0;36m3\u001b[0m\u001b[0;34m*\u001b[0m\u001b[0;36m528\u001b[0m\u001b[0;34m]\u001b[0m\u001b[0;34m.\u001b[0m\u001b[0mplot\u001b[0m\u001b[0;34m.\u001b[0m\u001b[0mline\u001b[0m\u001b[0;34m(\u001b[0m\u001b[0max\u001b[0m\u001b[0;34m=\u001b[0m\u001b[0max1\u001b[0m\u001b[0;34m,\u001b[0m\u001b[0mfigsize\u001b[0m\u001b[0;34m=\u001b[0m\u001b[0;34m(\u001b[0m\u001b[0;36m18\u001b[0m\u001b[0;34m,\u001b[0m \u001b[0;36m6\u001b[0m\u001b[0;34m)\u001b[0m\u001b[0;34m)\u001b[0m\u001b[0;34m\u001b[0m\u001b[0m\n\u001b[0m\u001b[1;32m      3\u001b[0m \u001b[0mground_truth_stds\u001b[0m\u001b[0;34m[\u001b[0m\u001b[0;36m1\u001b[0m\u001b[0;34m]\u001b[0m\u001b[0;34m.\u001b[0m\u001b[0mloc\u001b[0m\u001b[0;34m[\u001b[0m\u001b[0;36m528\u001b[0m\u001b[0;34m:\u001b[0m\u001b[0;36m3\u001b[0m\u001b[0;34m*\u001b[0m\u001b[0;36m528\u001b[0m\u001b[0;34m]\u001b[0m\u001b[0;34m.\u001b[0m\u001b[0mplot\u001b[0m\u001b[0;34m.\u001b[0m\u001b[0mline\u001b[0m\u001b[0;34m(\u001b[0m\u001b[0max\u001b[0m\u001b[0;34m=\u001b[0m\u001b[0max2\u001b[0m\u001b[0;34m,\u001b[0m\u001b[0mfigsize\u001b[0m\u001b[0;34m=\u001b[0m\u001b[0;34m(\u001b[0m\u001b[0;36m18\u001b[0m\u001b[0;34m,\u001b[0m \u001b[0;36m6\u001b[0m\u001b[0;34m)\u001b[0m\u001b[0;34m)\u001b[0m\u001b[0;34m\u001b[0m\u001b[0m\n\u001b[1;32m      4\u001b[0m \u001b[0;31m# u_frames_pd['mean'].loc[528:3*528].plot.line(ax=ax2,figsize=(18, 6))\u001b[0m\u001b[0;34m\u001b[0m\u001b[0;34m\u001b[0m\u001b[0m\n\u001b[1;32m      5\u001b[0m \u001b[0;31m# y_frames_pd['mean'].hist(ax=ax2,figsize=(18, 6))\u001b[0m\u001b[0;34m\u001b[0m\u001b[0;34m\u001b[0m\u001b[0m\n",
      "\u001b[0;31mAttributeError\u001b[0m: 'numpy.ndarray' object has no attribute 'plot'"
     ]
    },
    {
     "data": {
      "image/png": "[encoded data removed]",
      "text/plain": [
       "<Figure size 432x288 with 2 Axes>"
      ]
     },
     "metadata": {},
     "output_type": "display_data"
    }
   ],
   "source": [
    "f, (ax1, ax2) = plt.subplots(1, 2)\n",
    "ground_truth_stds[0][528:3*528].plot.line(ax=ax1,figsize=(18, 6))\n",
    "ground_truth_stds[1].loc[528:3*528].plot.line(ax=ax2,figsize=(18, 6))\n",
    "# u_frames_pd['mean'].loc[528:3*528].plot.line(ax=ax2,figsize=(18, 6))\n",
    "# y_frames_pd['mean'].hist(ax=ax2,figsize=(18, 6))"
   ]
  },
  {
   "cell_type": "code",
   "execution_count": null,
   "metadata": {},
   "outputs": [],
   "source": []
  }
 ],
 "metadata": {
  "kernelspec": {
   "display_name": "Python 3",
   "language": "python",
   "name": "python3"
  },
  "language_info": {
   "codemirror_mode": {
    "name": "ipython",
    "version": 3
   },
   "file_extension": ".py",
   "mimetype": "text/x-python",
   "name": "python",
   "nbconvert_exporter": "python",
   "pygments_lexer": "ipython3",
   "version": "3.5.2"
  }
 },
 "nbformat": 4,
 "nbformat_minor": 2
}
